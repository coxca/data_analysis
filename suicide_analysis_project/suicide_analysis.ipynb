{
 "cells": [
  {
   "cell_type": "code",
   "id": "initial_id",
   "metadata": {
    "collapsed": true,
    "ExecuteTime": {
     "end_time": "2024-05-15T18:43:17.220527Z",
     "start_time": "2024-05-15T18:43:16.898825Z"
    }
   },
   "source": "import duckdb",
   "outputs": [],
   "execution_count": 1
  },
  {
   "metadata": {
    "ExecuteTime": {
     "end_time": "2024-05-15T18:43:34.837196Z",
     "start_time": "2024-05-15T18:43:34.767517Z"
    }
   },
   "cell_type": "code",
   "source": "df = duckdb.read_csv(\"death_rates_for_suicide_us.csv\")",
   "id": "d4723072a499cc29",
   "outputs": [],
   "execution_count": 3
  },
  {
   "metadata": {
    "ExecuteTime": {
     "end_time": "2024-05-15T18:44:18.695233Z",
     "start_time": "2024-05-15T18:44:18.681553Z"
    }
   },
   "cell_type": "code",
   "source": "duckdb.sql(\"SELECT DISTINCT STUB_NAME FROM df\").show()",
   "id": "bf9452d1bd5e9b11",
   "outputs": [
    {
     "name": "stdout",
     "output_type": "stream",
     "text": [
      "┌─────────────────────────────────────────────────────┐\n",
      "│                      STUB_NAME                      │\n",
      "│                       varchar                       │\n",
      "├─────────────────────────────────────────────────────┤\n",
      "│ Sex                                                 │\n",
      "│ Sex, age and race                                   │\n",
      "│ Sex and age                                         │\n",
      "│ Sex, age and race (Single race)                     │\n",
      "│ Sex and race and Hispanic origin (Single race)      │\n",
      "│ Sex, age and race and Hispanic origin               │\n",
      "│ Total                                               │\n",
      "│ Sex and race                                        │\n",
      "│ Sex and race (Single race)                          │\n",
      "│ Age                                                 │\n",
      "│ Sex and race and Hispanic origin                    │\n",
      "│ Sex, age and race and Hispanic origin (Single race) │\n",
      "├─────────────────────────────────────────────────────┤\n",
      "│                       12 rows                       │\n",
      "└─────────────────────────────────────────────────────┘\n",
      "\n"
     ]
    }
   ],
   "execution_count": 5
  },
  {
   "metadata": {
    "ExecuteTime": {
     "end_time": "2024-05-15T18:44:43.572639Z",
     "start_time": "2024-05-15T18:44:43.561477Z"
    }
   },
   "cell_type": "code",
   "source": "duckdb.sql(\"SELECT DISTINCT STUB_NAME_NUM FROM df\").show()",
   "id": "c19b80459bd5a653",
   "outputs": [
    {
     "name": "stdout",
     "output_type": "stream",
     "text": [
      "┌───────────────┐\n",
      "│ STUB_NAME_NUM │\n",
      "│     int64     │\n",
      "├───────────────┤\n",
      "│             0 │\n",
      "│            11 │\n",
      "│             8 │\n",
      "│             7 │\n",
      "│             2 │\n",
      "│            10 │\n",
      "│             4 │\n",
      "│             1 │\n",
      "│             5 │\n",
      "│             9 │\n",
      "│             6 │\n",
      "│             3 │\n",
      "├───────────────┤\n",
      "│    12 rows    │\n",
      "└───────────────┘\n",
      "\n"
     ]
    }
   ],
   "execution_count": 6
  },
  {
   "metadata": {
    "ExecuteTime": {
     "end_time": "2024-05-15T18:45:14.846090Z",
     "start_time": "2024-05-15T18:45:14.833801Z"
    }
   },
   "cell_type": "code",
   "source": "duckdb.sql(\"SELECT DISTINCT STUB_LABEL FROM df\").show()",
   "id": "384580b9f17cfd98",
   "outputs": [
    {
     "name": "stdout",
     "output_type": "stream",
     "text": [
      "┌───────────────────────────────────────────────────────────────────────────────┐\n",
      "│                                  STUB_LABEL                                   │\n",
      "│                                    varchar                                    │\n",
      "├───────────────────────────────────────────────────────────────────────────────┤\n",
      "│ Male                                                                          │\n",
      "│ Male: Asian or Pacific Islander                                               │\n",
      "│ Female: Not Hispanic or Latino: White                                         │\n",
      "│ Female: Hispanic or Latino: All races                                         │\n",
      "│ Male: Not Hispanic or Latino: Asian                                           │\n",
      "│ Male: Not Hispanic or Latino: Native Hawaiian or Other Pacific Islander       │\n",
      "│ 10-14 years                                                                   │\n",
      "│ 15-19 years                                                                   │\n",
      "│ 20-24 years                                                                   │\n",
      "│ 65-74 years                                                                   │\n",
      "│      ·                                                                        │\n",
      "│      ·                                                                        │\n",
      "│      ·                                                                        │\n",
      "│ Female: 45-54 years                                                           │\n",
      "│ Male: Black or African American: 85 years and over                            │\n",
      "│ Female: Black or African American: 45-64 years                                │\n",
      "│ Male: Not Hispanic or Latino: Asian or Pacific Islander: 25-44 years          │\n",
      "│ Female: Not Hispanic or Latino: American Indian or Alaska Native: 25-44 years │\n",
      "│ Male: Not Hispanic or Latino: Black or African American: 65 years and over    │\n",
      "│ Male: Hispanic or Latino: All races: 15-24 years                              │\n",
      "│ Female: Not Hispanic or Latino: White: 65 years and over                      │\n",
      "│ Female: Not Hispanic or Latino: Black or African American: 25-44 years        │\n",
      "│ Female: Not Hispanic or Latino: Black or African American: 45-64 years        │\n",
      "├───────────────────────────────────────────────────────────────────────────────┤\n",
      "│                              161 rows (20 shown)                              │\n",
      "└───────────────────────────────────────────────────────────────────────────────┘\n",
      "\n"
     ]
    }
   ],
   "execution_count": 7
  },
  {
   "metadata": {
    "ExecuteTime": {
     "end_time": "2024-05-15T18:45:22.669529Z",
     "start_time": "2024-05-15T18:45:22.657832Z"
    }
   },
   "cell_type": "code",
   "source": "duckdb.sql(\"SELECT DISTINCT STUB_LABEL_NUM FROM df\").show()",
   "id": "8d7a911caea56884",
   "outputs": [
    {
     "name": "stdout",
     "output_type": "stream",
     "text": [
      "┌────────────────┐\n",
      "│ STUB_LABEL_NUM │\n",
      "│     double     │\n",
      "├────────────────┤\n",
      "│            0.0 │\n",
      "│           4.11 │\n",
      "│           1.32 │\n",
      "│            1.5 │\n",
      "│           1.53 │\n",
      "│          3.141 │\n",
      "│           3.22 │\n",
      "│          3.231 │\n",
      "│          3.232 │\n",
      "│           3.25 │\n",
      "│             ·  │\n",
      "│             ·  │\n",
      "│             ·  │\n",
      "│          5.235 │\n",
      "│          5.243 │\n",
      "│          6.141 │\n",
      "│          6.143 │\n",
      "│          6.151 │\n",
      "│          7.115 │\n",
      "│          7.233 │\n",
      "│          7.234 │\n",
      "│          6.161 │\n",
      "│          6.261 │\n",
      "├────────────────┤\n",
      "│    161 rows    │\n",
      "│   (20 shown)   │\n",
      "└────────────────┘\n",
      "\n"
     ]
    }
   ],
   "execution_count": 8
  },
  {
   "metadata": {
    "ExecuteTime": {
     "end_time": "2024-05-15T19:01:11.378989Z",
     "start_time": "2024-05-15T19:01:11.364163Z"
    }
   },
   "cell_type": "code",
   "source": "duckdb.sql(\"SELECT DISTINCT YEAR, YEAR_NUM FROM df order by YEAR, YEAR_NUM\").show()",
   "id": "58f14f19c66541fd",
   "outputs": [
    {
     "name": "stdout",
     "output_type": "stream",
     "text": [
      "┌───────┬──────────┐\n",
      "│ YEAR  │ YEAR_NUM │\n",
      "│ int64 │  int64   │\n",
      "├───────┼──────────┤\n",
      "│  1950 │        1 │\n",
      "│  1960 │        2 │\n",
      "│  1970 │        3 │\n",
      "│  1980 │        4 │\n",
      "│  1981 │        5 │\n",
      "│  1982 │        6 │\n",
      "│  1983 │        7 │\n",
      "│  1984 │        8 │\n",
      "│  1985 │        9 │\n",
      "│  1986 │       10 │\n",
      "│    ·  │        · │\n",
      "│    ·  │        · │\n",
      "│    ·  │        · │\n",
      "│  2009 │       33 │\n",
      "│  2010 │       34 │\n",
      "│  2011 │       35 │\n",
      "│  2012 │       36 │\n",
      "│  2013 │       37 │\n",
      "│  2014 │       38 │\n",
      "│  2015 │       39 │\n",
      "│  2016 │       40 │\n",
      "│  2017 │       41 │\n",
      "│  2018 │       42 │\n",
      "├───────┴──────────┤\n",
      "│     42 rows      │\n",
      "│    (20 shown)    │\n",
      "└──────────────────┘\n",
      "\n"
     ]
    }
   ],
   "execution_count": 12
  },
  {
   "metadata": {
    "ExecuteTime": {
     "end_time": "2024-05-15T19:01:31.427604Z",
     "start_time": "2024-05-15T19:01:31.411338Z"
    }
   },
   "cell_type": "code",
   "source": "duckdb.sql(\"SELECT DISTINCT AGE, AGE_NUM FROM df order by AGE, AGE_NUM\").show()",
   "id": "e421dda7bc9bd4e2",
   "outputs": [
    {
     "name": "stdout",
     "output_type": "stream",
     "text": [
      "┌───────────────────┬─────────┐\n",
      "│        AGE        │ AGE_NUM │\n",
      "│      varchar      │ double  │\n",
      "├───────────────────┼─────────┤\n",
      "│ 10-14 years       │     1.0 │\n",
      "│ 15-19 years       │     2.1 │\n",
      "│ 15-24 years       │     2.0 │\n",
      "│ 20-24 years       │     2.2 │\n",
      "│ 25-34 years       │     3.1 │\n",
      "│ 25-44 years       │     3.0 │\n",
      "│ 35-44 years       │     3.2 │\n",
      "│ 45-54 years       │     4.1 │\n",
      "│ 45-64 years       │     4.0 │\n",
      "│ 55-64 years       │     4.2 │\n",
      "│ 65 years and over │     5.0 │\n",
      "│ 65-74 years       │     5.1 │\n",
      "│ 75-84 years       │     5.2 │\n",
      "│ 85 years and over │     6.0 │\n",
      "│ All ages          │     0.0 │\n",
      "├───────────────────┴─────────┤\n",
      "│ 15 rows           2 columns │\n",
      "└─────────────────────────────┘\n",
      "\n"
     ]
    }
   ],
   "execution_count": 13
  },
  {
   "metadata": {
    "ExecuteTime": {
     "end_time": "2024-05-15T20:00:43.370415Z",
     "start_time": "2024-05-15T20:00:43.362684Z"
    }
   },
   "cell_type": "code",
   "source": "duckdb.sql(\"SELECT DISTINCT ESTIMATE FROM df\").show()",
   "id": "23f9c305780f894c",
   "outputs": [
    {
     "name": "stdout",
     "output_type": "stream",
     "text": [
      "┌────────────┐\n",
      "│  ESTIMATE  │\n",
      "│   double   │\n",
      "├────────────┤\n",
      "│       11.9 │\n",
      "│       10.5 │\n",
      "│       14.0 │\n",
      "│       19.9 │\n",
      "│       21.7 │\n",
      "│       20.5 │\n",
      "│       20.7 │\n",
      "│       21.4 │\n",
      "│        5.6 │\n",
      "│        7.4 │\n",
      "│         ·  │\n",
      "│         ·  │\n",
      "│         ·  │\n",
      "│       26.4 │\n",
      "│       37.3 │\n",
      "│       57.9 │\n",
      "│       56.6 │\n",
      "│       54.4 │\n",
      "│       40.2 │\n",
      "│       44.4 │\n",
      "│       44.6 │\n",
      "│       41.5 │\n",
      "│       60.7 │\n",
      "├────────────┤\n",
      "│  530 rows  │\n",
      "│ (20 shown) │\n",
      "└────────────┘\n",
      "\n"
     ]
    }
   ],
   "execution_count": 16
  },
  {
   "metadata": {
    "ExecuteTime": {
     "end_time": "2024-05-15T20:01:41.413144Z",
     "start_time": "2024-05-15T20:01:41.403698Z"
    }
   },
   "cell_type": "code",
   "source": "duckdb.sql(\"SELECT DISTINCT FLAG FROM df\").show()",
   "id": "c07399df03e61eff",
   "outputs": [
    {
     "name": "stdout",
     "output_type": "stream",
     "text": [
      "┌─────────┐\n",
      "│  FLAG   │\n",
      "│ varchar │\n",
      "├─────────┤\n",
      "│ NULL    │\n",
      "│ ...     │\n",
      "│ *       │\n",
      "└─────────┘\n",
      "\n"
     ]
    }
   ],
   "execution_count": 17
  },
  {
   "metadata": {},
   "cell_type": "code",
   "outputs": [],
   "execution_count": null,
   "source": "",
   "id": "cb6a2a2954619eee"
  }
 ],
 "metadata": {
  "kernelspec": {
   "display_name": "Python 3",
   "language": "python",
   "name": "python3"
  },
  "language_info": {
   "codemirror_mode": {
    "name": "ipython",
    "version": 2
   },
   "file_extension": ".py",
   "mimetype": "text/x-python",
   "name": "python",
   "nbconvert_exporter": "python",
   "pygments_lexer": "ipython2",
   "version": "2.7.6"
  }
 },
 "nbformat": 4,
 "nbformat_minor": 5
}
